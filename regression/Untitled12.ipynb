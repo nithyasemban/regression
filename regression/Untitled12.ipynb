{
 "cells": [
  {
   "cell_type": "code",
   "execution_count": 1,
   "id": "b8c6f27d",
   "metadata": {},
   "outputs": [],
   "source": [
    "import numpy as np\n",
    "import pandas as pd\n",
    "import matplotlib.pyplot as plt\n",
    "from sklearn.model_selection import train_test_split \n",
    "from sklearn.linear_model import LinearRegression\n",
    "from sklearn.metrics import mean_squared_error\n",
    "from sklearn.metrics import r2_score\n"
   ]
  },
  {
   "cell_type": "code",
   "execution_count": 2,
   "id": "182e4989",
   "metadata": {},
   "outputs": [
    {
     "data": {
      "text/html": [
       "<div>\n",
       "<style scoped>\n",
       "    .dataframe tbody tr th:only-of-type {\n",
       "        vertical-align: middle;\n",
       "    }\n",
       "\n",
       "    .dataframe tbody tr th {\n",
       "        vertical-align: top;\n",
       "    }\n",
       "\n",
       "    .dataframe thead th {\n",
       "        text-align: right;\n",
       "    }\n",
       "</style>\n",
       "<table border=\"1\" class=\"dataframe\">\n",
       "  <thead>\n",
       "    <tr style=\"text-align: right;\">\n",
       "      <th></th>\n",
       "      <th>Brand</th>\n",
       "      <th>Model</th>\n",
       "      <th>Storage</th>\n",
       "      <th>RAM</th>\n",
       "      <th>Screen Size (inches)</th>\n",
       "      <th>Camera (MP)</th>\n",
       "      <th>Battery Capacity (mAh)</th>\n",
       "      <th>Price ($)</th>\n",
       "    </tr>\n",
       "  </thead>\n",
       "  <tbody>\n",
       "    <tr>\n",
       "      <th>0</th>\n",
       "      <td>Apple</td>\n",
       "      <td>iPhone 13 Pro</td>\n",
       "      <td>128 GB</td>\n",
       "      <td>6 GB</td>\n",
       "      <td>6.1</td>\n",
       "      <td>12 + 12 + 12</td>\n",
       "      <td>3095</td>\n",
       "      <td>999</td>\n",
       "    </tr>\n",
       "    <tr>\n",
       "      <th>1</th>\n",
       "      <td>Samsung</td>\n",
       "      <td>Galaxy S21 Ultra</td>\n",
       "      <td>256 GB</td>\n",
       "      <td>12 GB</td>\n",
       "      <td>6.8</td>\n",
       "      <td>108 + 10 + 10 + 12</td>\n",
       "      <td>5000</td>\n",
       "      <td>1199</td>\n",
       "    </tr>\n",
       "    <tr>\n",
       "      <th>2</th>\n",
       "      <td>OnePlus</td>\n",
       "      <td>9 Pro</td>\n",
       "      <td>128 GB</td>\n",
       "      <td>8 GB</td>\n",
       "      <td>6.7</td>\n",
       "      <td>48 + 50 + 8 + 2</td>\n",
       "      <td>4500</td>\n",
       "      <td>899</td>\n",
       "    </tr>\n",
       "    <tr>\n",
       "      <th>3</th>\n",
       "      <td>Xiaomi</td>\n",
       "      <td>Redmi Note 10 Pro</td>\n",
       "      <td>128 GB</td>\n",
       "      <td>6 GB</td>\n",
       "      <td>6.67</td>\n",
       "      <td>64 + 8 + 5 + 2</td>\n",
       "      <td>5020</td>\n",
       "      <td>279</td>\n",
       "    </tr>\n",
       "    <tr>\n",
       "      <th>4</th>\n",
       "      <td>Google</td>\n",
       "      <td>Pixel 6</td>\n",
       "      <td>128 GB</td>\n",
       "      <td>8 GB</td>\n",
       "      <td>6.4</td>\n",
       "      <td>50 + 12.2</td>\n",
       "      <td>4614</td>\n",
       "      <td>799</td>\n",
       "    </tr>\n",
       "  </tbody>\n",
       "</table>\n",
       "</div>"
      ],
      "text/plain": [
       "     Brand              Model Storage    RAM  Screen Size (inches)  \\\n",
       "0    Apple      iPhone 13 Pro   128 GB   6 GB                  6.1   \n",
       "1  Samsung   Galaxy S21 Ultra   256 GB  12 GB                  6.8   \n",
       "2  OnePlus              9 Pro   128 GB   8 GB                  6.7   \n",
       "3   Xiaomi  Redmi Note 10 Pro   128 GB   6 GB                 6.67   \n",
       "4   Google            Pixel 6   128 GB   8 GB                  6.4   \n",
       "\n",
       "          Camera (MP)  Battery Capacity (mAh) Price ($)  \n",
       "0        12 + 12 + 12                    3095       999  \n",
       "1  108 + 10 + 10 + 12                    5000      1199  \n",
       "2     48 + 50 + 8 + 2                    4500       899  \n",
       "3      64 + 8 + 5 + 2                    5020       279  \n",
       "4           50 + 12.2                    4614       799  "
      ]
     },
     "execution_count": 2,
     "metadata": {},
     "output_type": "execute_result"
    }
   ],
   "source": [
    "df = pd.read_csv(\"Mobile phone price.csv\")\n",
    "df.head()"
   ]
  },
  {
   "cell_type": "code",
   "execution_count": 3,
   "id": "a257cb0d",
   "metadata": {},
   "outputs": [
    {
     "data": {
      "text/plain": [
       "Brand                     0\n",
       "Model                     0\n",
       "Storage                   0\n",
       "RAM                       0\n",
       "Screen Size (inches)      0\n",
       "Camera (MP)               0\n",
       "Battery Capacity (mAh)    0\n",
       "Price ($)                 0\n",
       "dtype: int64"
      ]
     },
     "execution_count": 3,
     "metadata": {},
     "output_type": "execute_result"
    }
   ],
   "source": [
    "df.isnull().sum()"
   ]
  },
  {
   "cell_type": "code",
   "execution_count": 4,
   "id": "097d0c7a",
   "metadata": {},
   "outputs": [
    {
     "name": "stdout",
     "output_type": "stream",
     "text": [
      "<class 'pandas.core.frame.DataFrame'>\n",
      "RangeIndex: 407 entries, 0 to 406\n",
      "Data columns (total 8 columns):\n",
      " #   Column                  Non-Null Count  Dtype \n",
      "---  ------                  --------------  ----- \n",
      " 0   Brand                   407 non-null    object\n",
      " 1   Model                   407 non-null    object\n",
      " 2   Storage                 407 non-null    object\n",
      " 3   RAM                     407 non-null    object\n",
      " 4   Screen Size (inches)    407 non-null    object\n",
      " 5   Camera (MP)             407 non-null    object\n",
      " 6   Battery Capacity (mAh)  407 non-null    int64 \n",
      " 7   Price ($)               407 non-null    object\n",
      "dtypes: int64(1), object(7)\n",
      "memory usage: 25.6+ KB\n"
     ]
    }
   ],
   "source": [
    "df.info()"
   ]
  },
  {
   "cell_type": "code",
   "execution_count": 5,
   "id": "af273a7f",
   "metadata": {},
   "outputs": [
    {
     "data": {
      "text/html": [
       "<div>\n",
       "<style scoped>\n",
       "    .dataframe tbody tr th:only-of-type {\n",
       "        vertical-align: middle;\n",
       "    }\n",
       "\n",
       "    .dataframe tbody tr th {\n",
       "        vertical-align: top;\n",
       "    }\n",
       "\n",
       "    .dataframe thead th {\n",
       "        text-align: right;\n",
       "    }\n",
       "</style>\n",
       "<table border=\"1\" class=\"dataframe\">\n",
       "  <thead>\n",
       "    <tr style=\"text-align: right;\">\n",
       "      <th></th>\n",
       "      <th>Brand</th>\n",
       "      <th>Model</th>\n",
       "      <th>Storage</th>\n",
       "      <th>RAM</th>\n",
       "      <th>Screen Size (inches)</th>\n",
       "      <th>Camera (MP)</th>\n",
       "      <th>Battery Capacity (mAh)</th>\n",
       "      <th>Price ($)</th>\n",
       "    </tr>\n",
       "  </thead>\n",
       "  <tbody>\n",
       "    <tr>\n",
       "      <th>0</th>\n",
       "      <td>Apple</td>\n",
       "      <td>iPhone 13 Pro</td>\n",
       "      <td>128 GB</td>\n",
       "      <td>6 GB</td>\n",
       "      <td>6.1</td>\n",
       "      <td>12 + 12 + 12</td>\n",
       "      <td>3095</td>\n",
       "      <td>999</td>\n",
       "    </tr>\n",
       "    <tr>\n",
       "      <th>1</th>\n",
       "      <td>Samsung</td>\n",
       "      <td>Galaxy S21 Ultra</td>\n",
       "      <td>256 GB</td>\n",
       "      <td>12 GB</td>\n",
       "      <td>6.8</td>\n",
       "      <td>108 + 10 + 10 + 12</td>\n",
       "      <td>5000</td>\n",
       "      <td>1199</td>\n",
       "    </tr>\n",
       "    <tr>\n",
       "      <th>2</th>\n",
       "      <td>OnePlus</td>\n",
       "      <td>9 Pro</td>\n",
       "      <td>128 GB</td>\n",
       "      <td>8 GB</td>\n",
       "      <td>6.7</td>\n",
       "      <td>48 + 50 + 8 + 2</td>\n",
       "      <td>4500</td>\n",
       "      <td>899</td>\n",
       "    </tr>\n",
       "    <tr>\n",
       "      <th>3</th>\n",
       "      <td>Xiaomi</td>\n",
       "      <td>Redmi Note 10 Pro</td>\n",
       "      <td>128 GB</td>\n",
       "      <td>6 GB</td>\n",
       "      <td>6.67</td>\n",
       "      <td>64 + 8 + 5 + 2</td>\n",
       "      <td>5020</td>\n",
       "      <td>279</td>\n",
       "    </tr>\n",
       "    <tr>\n",
       "      <th>4</th>\n",
       "      <td>Google</td>\n",
       "      <td>Pixel 6</td>\n",
       "      <td>128 GB</td>\n",
       "      <td>8 GB</td>\n",
       "      <td>6.4</td>\n",
       "      <td>50 + 12.2</td>\n",
       "      <td>4614</td>\n",
       "      <td>799</td>\n",
       "    </tr>\n",
       "    <tr>\n",
       "      <th>...</th>\n",
       "      <td>...</td>\n",
       "      <td>...</td>\n",
       "      <td>...</td>\n",
       "      <td>...</td>\n",
       "      <td>...</td>\n",
       "      <td>...</td>\n",
       "      <td>...</td>\n",
       "      <td>...</td>\n",
       "    </tr>\n",
       "    <tr>\n",
       "      <th>402</th>\n",
       "      <td>Samsung</td>\n",
       "      <td>Galaxy Note20 5G</td>\n",
       "      <td>128</td>\n",
       "      <td>8</td>\n",
       "      <td>6.7</td>\n",
       "      <td>12+64+12</td>\n",
       "      <td>4300</td>\n",
       "      <td>1049</td>\n",
       "    </tr>\n",
       "    <tr>\n",
       "      <th>403</th>\n",
       "      <td>Xiaomi</td>\n",
       "      <td>Mi 10 Lite 5G</td>\n",
       "      <td>128</td>\n",
       "      <td>6</td>\n",
       "      <td>6.57</td>\n",
       "      <td>48+8+2+2</td>\n",
       "      <td>4160</td>\n",
       "      <td>349</td>\n",
       "    </tr>\n",
       "    <tr>\n",
       "      <th>404</th>\n",
       "      <td>Apple</td>\n",
       "      <td>iPhone 12 Pro Max</td>\n",
       "      <td>128</td>\n",
       "      <td>6</td>\n",
       "      <td>6.7</td>\n",
       "      <td>12+12+12</td>\n",
       "      <td>3687</td>\n",
       "      <td>1099</td>\n",
       "    </tr>\n",
       "    <tr>\n",
       "      <th>405</th>\n",
       "      <td>Oppo</td>\n",
       "      <td>Reno3</td>\n",
       "      <td>128</td>\n",
       "      <td>8</td>\n",
       "      <td>6.4</td>\n",
       "      <td>48+13+8+2</td>\n",
       "      <td>4025</td>\n",
       "      <td>429</td>\n",
       "    </tr>\n",
       "    <tr>\n",
       "      <th>406</th>\n",
       "      <td>Samsung</td>\n",
       "      <td>Galaxy S10 Lite</td>\n",
       "      <td>128</td>\n",
       "      <td>6</td>\n",
       "      <td>6.7</td>\n",
       "      <td>48+12+5</td>\n",
       "      <td>4500</td>\n",
       "      <td>649</td>\n",
       "    </tr>\n",
       "  </tbody>\n",
       "</table>\n",
       "<p>407 rows × 8 columns</p>\n",
       "</div>"
      ],
      "text/plain": [
       "       Brand              Model Storage    RAM  Screen Size (inches)  \\\n",
       "0      Apple      iPhone 13 Pro   128 GB   6 GB                  6.1   \n",
       "1    Samsung   Galaxy S21 Ultra   256 GB  12 GB                  6.8   \n",
       "2    OnePlus              9 Pro   128 GB   8 GB                  6.7   \n",
       "3     Xiaomi  Redmi Note 10 Pro   128 GB   6 GB                 6.67   \n",
       "4     Google            Pixel 6   128 GB   8 GB                  6.4   \n",
       "..       ...                ...      ...    ...                  ...   \n",
       "402  Samsung   Galaxy Note20 5G      128      8                  6.7   \n",
       "403   Xiaomi      Mi 10 Lite 5G      128      6                 6.57   \n",
       "404    Apple  iPhone 12 Pro Max      128      6                  6.7   \n",
       "405     Oppo              Reno3      128      8                  6.4   \n",
       "406  Samsung    Galaxy S10 Lite      128      6                  6.7   \n",
       "\n",
       "            Camera (MP)  Battery Capacity (mAh) Price ($)  \n",
       "0          12 + 12 + 12                    3095       999  \n",
       "1    108 + 10 + 10 + 12                    5000      1199  \n",
       "2       48 + 50 + 8 + 2                    4500       899  \n",
       "3        64 + 8 + 5 + 2                    5020       279  \n",
       "4             50 + 12.2                    4614       799  \n",
       "..                  ...                     ...       ...  \n",
       "402            12+64+12                    4300      1049  \n",
       "403            48+8+2+2                    4160       349  \n",
       "404            12+12+12                    3687      1099  \n",
       "405           48+13+8+2                    4025       429  \n",
       "406             48+12+5                    4500       649  \n",
       "\n",
       "[407 rows x 8 columns]"
      ]
     },
     "execution_count": 5,
     "metadata": {},
     "output_type": "execute_result"
    }
   ],
   "source": [
    "df.dropna()"
   ]
  },
  {
   "cell_type": "code",
   "execution_count": null,
   "id": "e0efaf9d",
   "metadata": {},
   "outputs": [],
   "source": []
  },
  {
   "cell_type": "code",
   "execution_count": 6,
   "id": "886c73f4",
   "metadata": {},
   "outputs": [
    {
     "name": "stdout",
     "output_type": "stream",
     "text": [
      "     Brand  Model  Storage   RAM   Screen Size (inches)  Camera (MP)  \\\n",
      "0        0    232         1    15                     8           15   \n",
      "1       12    100         4     1                    35            0   \n",
      "2        9     19         1    18                    31           53   \n",
      "3       15    178         1    15                    30          119   \n",
      "4        4    162         1    18                    15           87   \n",
      "..     ...    ...       ...   ...                   ...          ...   \n",
      "402     12     95         0    17                    31           19   \n",
      "403     15    111         0    14                    26           70   \n",
      "404      0    229         0    14                    31           17   \n",
      "405     10    188         0    17                    15           59   \n",
      "406     12     96         0    14                    31           57   \n",
      "\n",
      "     Battery Capacity (mAh)  Price ($)  \n",
      "0                      3095         88  \n",
      "1                      5000         45  \n",
      "2                      4500         85  \n",
      "3                      5020         63  \n",
      "4                      4614         84  \n",
      "..                      ...        ...  \n",
      "402                    4300         42  \n",
      "403                    4160         67  \n",
      "404                    3687         43  \n",
      "405                    4025         73  \n",
      "406                    4500         79  \n",
      "\n",
      "[407 rows x 8 columns]\n"
     ]
    }
   ],
   "source": [
    "from sklearn.preprocessing import LabelEncoder\n",
    "\n",
    "le = LabelEncoder()\n",
    "\n",
    "# Assuming df is your DataFrame\n",
    "categorical_columns = ['Brand', 'Model','Storage ', 'RAM ', 'Screen Size (inches)',\n",
    "                'Camera (MP)', 'Price ($)']  # Add other categorical columns as needed\n",
    "\n",
    "# Use LabelEncoder to fit and transform each categorical column\n",
    "for column in categorical_columns:\n",
    "    df[column] = le.fit_transform(df[column])\n",
    "    \n",
    "\n",
    "# Display the DataFrame after label encoding\n",
    "print(df)\n"
   ]
  },
  {
   "cell_type": "code",
   "execution_count": null,
   "id": "8784e6c3",
   "metadata": {},
   "outputs": [],
   "source": []
  },
  {
   "cell_type": "code",
   "execution_count": 7,
   "id": "1623d0b8",
   "metadata": {},
   "outputs": [
    {
     "name": "stdout",
     "output_type": "stream",
     "text": [
      "<class 'pandas.core.frame.DataFrame'>\n",
      "RangeIndex: 407 entries, 0 to 406\n",
      "Data columns (total 8 columns):\n",
      " #   Column                  Non-Null Count  Dtype\n",
      "---  ------                  --------------  -----\n",
      " 0   Brand                   407 non-null    int32\n",
      " 1   Model                   407 non-null    int32\n",
      " 2   Storage                 407 non-null    int32\n",
      " 3   RAM                     407 non-null    int32\n",
      " 4   Screen Size (inches)    407 non-null    int32\n",
      " 5   Camera (MP)             407 non-null    int32\n",
      " 6   Battery Capacity (mAh)  407 non-null    int64\n",
      " 7   Price ($)               407 non-null    int32\n",
      "dtypes: int32(7), int64(1)\n",
      "memory usage: 14.4 KB\n"
     ]
    }
   ],
   "source": [
    "df.info()"
   ]
  },
  {
   "cell_type": "code",
   "execution_count": 8,
   "id": "bba92a65",
   "metadata": {},
   "outputs": [],
   "source": [
    "x = df.drop(columns=\"Price ($)\").values\n",
    "y = df[\"Price ($)\"].values"
   ]
  },
  {
   "cell_type": "code",
   "execution_count": 34,
   "id": "8e3839cb",
   "metadata": {},
   "outputs": [],
   "source": [
    "#split the data in to train test \n",
    "x_train,x_test,y_train,y_test = train_test_split(x,y,test_size=0.2)"
   ]
  },
  {
   "cell_type": "code",
   "execution_count": null,
   "id": "5d73e004",
   "metadata": {},
   "outputs": [],
   "source": []
  },
  {
   "cell_type": "code",
   "execution_count": 35,
   "id": "501b9811",
   "metadata": {
    "scrolled": true
   },
   "outputs": [
    {
     "name": "stdout",
     "output_type": "stream",
     "text": [
      "independent data\n",
      " [[   0  232    1 ...    8   15 3095]\n",
      " [  12  100    4 ...   35    0 5000]\n",
      " [   9   19    1 ...   31   53 4500]\n",
      " ...\n",
      " [   0  229    0 ...   31   17 3687]\n",
      " [  10  188    0 ...   15   59 4025]\n",
      " [  12   96    0 ...   31   57 4500]]\n",
      "dependent data\n",
      " [88 45 85 63 84 84 88 60 81 45 66 74 66 81 45 66 84 56 64 70 54 63 60 82\n",
      " 63 78 49 64 49 55 74 54 71 61 63 52 58 71 56 76 52 46 55 71 77 81 69 56\n",
      " 52 54 55 43 53 87 75 59 56 47 60 73 80 56 71 62 59 74 68 58 76 54 53 59\n",
      " 66 69 78 84 49 36 36 29 35 23 29 41 35 35 34  1 41 38 29 31 22 17 25 17\n",
      " 18 16 25 35 35 20 41 39  0  6  5 40 35 40 11  8 41 33 29 36  9 13 16  6\n",
      " 11 18  9 38 17 14 29 15  6 18 23  6 34 31 18 11 29  9 29  2 13  6 20 18\n",
      "  6 10  8 28  0 20 13 20  6 16 13 16  9 20 21  9 26 25 33 11 14 20  4 31\n",
      " 33 18 29 37 18 20 16  6 11 32 23 18 26 17 23 20 20 15 23  6 10 31 29 16\n",
      " 10 12 11 20 23 16  6  3 13 18 20 17 24 20 22 18 30 17 11  7  9 20  6  8\n",
      " 40  6  5 18 13  6 30 18 27  6  8 23  9 23 31 29 19  6 31 11  9 14 12  5\n",
      " 40 11 34 15 20 11 16 18  6 32 40 16 11 16 16 22  9 18 25 13  6 40  3  8\n",
      "  5  7 19 11 11  9 48 11 16 40  4  6  4  5 14  9  5  7  9 11 10  4 14 18\n",
      " 47 71 60 81 45 64 74 78 76 43 83 56 76 81 74 83 51 84 52 64 78 45 63 85\n",
      " 43 86 64 84 54 54 84 58 71 81 79 88 67 78 81 72 56 71 43 60 81 71 74 84\n",
      " 54 63 43 63 60 71 88 81 81 60 63 81 60 58 66 88 71 76 74 76 54 71 56 56\n",
      " 74 50 43 88 54 54 84 50 58 85 56 82 58 57 78 84 88 81 49 74 44 63 64 56\n",
      " 88 66 66 84 83 56 81 67 45 83 56 64 78 51 74 65 66 66 42 67 43 73 79]\n"
     ]
    }
   ],
   "source": [
    "print(\"independent data\\n\",x)\n",
    "print(\"dependent data\\n\",y)"
   ]
  },
  {
   "cell_type": "code",
   "execution_count": 28,
   "id": "6a19458c",
   "metadata": {},
   "outputs": [
    {
     "data": {
      "text/plain": [
       "Index(['Brand', 'Model', 'Storage ', 'RAM ', 'Screen Size (inches)',\n",
       "       'Camera (MP)', 'Battery Capacity (mAh)', 'Price ($)'],\n",
       "      dtype='object')"
      ]
     },
     "execution_count": 28,
     "metadata": {},
     "output_type": "execute_result"
    }
   ],
   "source": [
    "df.columns"
   ]
  },
  {
   "cell_type": "code",
   "execution_count": 36,
   "id": "041ddeca",
   "metadata": {},
   "outputs": [
    {
     "name": "stdout",
     "output_type": "stream",
     "text": [
      "x_train and x_test dataset shape (325, 7) (82, 7)\n",
      "y_train and y_test dataset shape (325,) (82,)\n"
     ]
    }
   ],
   "source": [
    "#check shape of the data \n",
    "print(\"x_train and x_test dataset shape\",x_train.shape,x_test.shape)\n",
    "print(\"y_train and y_test dataset shape\",y_train.shape,y_test.shape)"
   ]
  },
  {
   "cell_type": "code",
   "execution_count": 37,
   "id": "bf4e2327",
   "metadata": {},
   "outputs": [
    {
     "data": {
      "text/html": [
       "<style>#sk-container-id-4 {color: black;}#sk-container-id-4 pre{padding: 0;}#sk-container-id-4 div.sk-toggleable {background-color: white;}#sk-container-id-4 label.sk-toggleable__label {cursor: pointer;display: block;width: 100%;margin-bottom: 0;padding: 0.3em;box-sizing: border-box;text-align: center;}#sk-container-id-4 label.sk-toggleable__label-arrow:before {content: \"▸\";float: left;margin-right: 0.25em;color: #696969;}#sk-container-id-4 label.sk-toggleable__label-arrow:hover:before {color: black;}#sk-container-id-4 div.sk-estimator:hover label.sk-toggleable__label-arrow:before {color: black;}#sk-container-id-4 div.sk-toggleable__content {max-height: 0;max-width: 0;overflow: hidden;text-align: left;background-color: #f0f8ff;}#sk-container-id-4 div.sk-toggleable__content pre {margin: 0.2em;color: black;border-radius: 0.25em;background-color: #f0f8ff;}#sk-container-id-4 input.sk-toggleable__control:checked~div.sk-toggleable__content {max-height: 200px;max-width: 100%;overflow: auto;}#sk-container-id-4 input.sk-toggleable__control:checked~label.sk-toggleable__label-arrow:before {content: \"▾\";}#sk-container-id-4 div.sk-estimator input.sk-toggleable__control:checked~label.sk-toggleable__label {background-color: #d4ebff;}#sk-container-id-4 div.sk-label input.sk-toggleable__control:checked~label.sk-toggleable__label {background-color: #d4ebff;}#sk-container-id-4 input.sk-hidden--visually {border: 0;clip: rect(1px 1px 1px 1px);clip: rect(1px, 1px, 1px, 1px);height: 1px;margin: -1px;overflow: hidden;padding: 0;position: absolute;width: 1px;}#sk-container-id-4 div.sk-estimator {font-family: monospace;background-color: #f0f8ff;border: 1px dotted black;border-radius: 0.25em;box-sizing: border-box;margin-bottom: 0.5em;}#sk-container-id-4 div.sk-estimator:hover {background-color: #d4ebff;}#sk-container-id-4 div.sk-parallel-item::after {content: \"\";width: 100%;border-bottom: 1px solid gray;flex-grow: 1;}#sk-container-id-4 div.sk-label:hover label.sk-toggleable__label {background-color: #d4ebff;}#sk-container-id-4 div.sk-serial::before {content: \"\";position: absolute;border-left: 1px solid gray;box-sizing: border-box;top: 0;bottom: 0;left: 50%;z-index: 0;}#sk-container-id-4 div.sk-serial {display: flex;flex-direction: column;align-items: center;background-color: white;padding-right: 0.2em;padding-left: 0.2em;position: relative;}#sk-container-id-4 div.sk-item {position: relative;z-index: 1;}#sk-container-id-4 div.sk-parallel {display: flex;align-items: stretch;justify-content: center;background-color: white;position: relative;}#sk-container-id-4 div.sk-item::before, #sk-container-id-4 div.sk-parallel-item::before {content: \"\";position: absolute;border-left: 1px solid gray;box-sizing: border-box;top: 0;bottom: 0;left: 50%;z-index: -1;}#sk-container-id-4 div.sk-parallel-item {display: flex;flex-direction: column;z-index: 1;position: relative;background-color: white;}#sk-container-id-4 div.sk-parallel-item:first-child::after {align-self: flex-end;width: 50%;}#sk-container-id-4 div.sk-parallel-item:last-child::after {align-self: flex-start;width: 50%;}#sk-container-id-4 div.sk-parallel-item:only-child::after {width: 0;}#sk-container-id-4 div.sk-dashed-wrapped {border: 1px dashed gray;margin: 0 0.4em 0.5em 0.4em;box-sizing: border-box;padding-bottom: 0.4em;background-color: white;}#sk-container-id-4 div.sk-label label {font-family: monospace;font-weight: bold;display: inline-block;line-height: 1.2em;}#sk-container-id-4 div.sk-label-container {text-align: center;}#sk-container-id-4 div.sk-container {/* jupyter's `normalize.less` sets `[hidden] { display: none; }` but bootstrap.min.css set `[hidden] { display: none !important; }` so we also need the `!important` here to be able to override the default hidden behavior on the sphinx rendered scikit-learn.org. See: https://github.com/scikit-learn/scikit-learn/issues/21755 */display: inline-block !important;position: relative;}#sk-container-id-4 div.sk-text-repr-fallback {display: none;}</style><div id=\"sk-container-id-4\" class=\"sk-top-container\"><div class=\"sk-text-repr-fallback\"><pre>LinearRegression()</pre><b>In a Jupyter environment, please rerun this cell to show the HTML representation or trust the notebook. <br />On GitHub, the HTML representation is unable to render, please try loading this page with nbviewer.org.</b></div><div class=\"sk-container\" hidden><div class=\"sk-item\"><div class=\"sk-estimator sk-toggleable\"><input class=\"sk-toggleable__control sk-hidden--visually\" id=\"sk-estimator-id-4\" type=\"checkbox\" checked><label for=\"sk-estimator-id-4\" class=\"sk-toggleable__label sk-toggleable__label-arrow\">LinearRegression</label><div class=\"sk-toggleable__content\"><pre>LinearRegression()</pre></div></div></div></div></div>"
      ],
      "text/plain": [
       "LinearRegression()"
      ]
     },
     "execution_count": 37,
     "metadata": {},
     "output_type": "execute_result"
    }
   ],
   "source": [
    "# call model and fit the model using train data\n",
    "regressor = LinearRegression()  \n",
    "regressor.fit(x_train, y_train)"
   ]
  },
  {
   "cell_type": "code",
   "execution_count": 38,
   "id": "72b2fe56",
   "metadata": {},
   "outputs": [
    {
     "data": {
      "text/plain": [
       "0.4567959793259111"
      ]
     },
     "execution_count": 38,
     "metadata": {},
     "output_type": "execute_result"
    }
   ],
   "source": [
    "#print r2 value\n",
    "regressor.score(x_test,y_test)"
   ]
  },
  {
   "cell_type": "code",
   "execution_count": 32,
   "id": "f7feaf56",
   "metadata": {},
   "outputs": [],
   "source": [
    "# find actual vs prediction\n",
    "y_pred = regressor.predict(x_test)"
   ]
  },
  {
   "cell_type": "code",
   "execution_count": 33,
   "id": "c902866d",
   "metadata": {
    "scrolled": true
   },
   "outputs": [
    {
     "data": {
      "text/html": [
       "<div>\n",
       "<style scoped>\n",
       "    .dataframe tbody tr th:only-of-type {\n",
       "        vertical-align: middle;\n",
       "    }\n",
       "\n",
       "    .dataframe tbody tr th {\n",
       "        vertical-align: top;\n",
       "    }\n",
       "\n",
       "    .dataframe thead th {\n",
       "        text-align: right;\n",
       "    }\n",
       "</style>\n",
       "<table border=\"1\" class=\"dataframe\">\n",
       "  <thead>\n",
       "    <tr style=\"text-align: right;\">\n",
       "      <th></th>\n",
       "      <th>Actual</th>\n",
       "      <th>Predicted</th>\n",
       "    </tr>\n",
       "  </thead>\n",
       "  <tbody>\n",
       "    <tr>\n",
       "      <th>0</th>\n",
       "      <td>54</td>\n",
       "      <td>27.701427</td>\n",
       "    </tr>\n",
       "    <tr>\n",
       "      <th>1</th>\n",
       "      <td>11</td>\n",
       "      <td>32.467979</td>\n",
       "    </tr>\n",
       "    <tr>\n",
       "      <th>2</th>\n",
       "      <td>59</td>\n",
       "      <td>51.125300</td>\n",
       "    </tr>\n",
       "    <tr>\n",
       "      <th>3</th>\n",
       "      <td>24</td>\n",
       "      <td>32.454936</td>\n",
       "    </tr>\n",
       "    <tr>\n",
       "      <th>4</th>\n",
       "      <td>20</td>\n",
       "      <td>37.027618</td>\n",
       "    </tr>\n",
       "    <tr>\n",
       "      <th>5</th>\n",
       "      <td>25</td>\n",
       "      <td>45.131726</td>\n",
       "    </tr>\n",
       "    <tr>\n",
       "      <th>6</th>\n",
       "      <td>18</td>\n",
       "      <td>34.150945</td>\n",
       "    </tr>\n",
       "    <tr>\n",
       "      <th>7</th>\n",
       "      <td>71</td>\n",
       "      <td>67.337849</td>\n",
       "    </tr>\n",
       "    <tr>\n",
       "      <th>8</th>\n",
       "      <td>84</td>\n",
       "      <td>81.290147</td>\n",
       "    </tr>\n",
       "    <tr>\n",
       "      <th>9</th>\n",
       "      <td>18</td>\n",
       "      <td>38.976554</td>\n",
       "    </tr>\n",
       "  </tbody>\n",
       "</table>\n",
       "</div>"
      ],
      "text/plain": [
       "   Actual  Predicted\n",
       "0      54  27.701427\n",
       "1      11  32.467979\n",
       "2      59  51.125300\n",
       "3      24  32.454936\n",
       "4      20  37.027618\n",
       "5      25  45.131726\n",
       "6      18  34.150945\n",
       "7      71  67.337849\n",
       "8      84  81.290147\n",
       "9      18  38.976554"
      ]
     },
     "execution_count": 33,
     "metadata": {},
     "output_type": "execute_result"
    }
   ],
   "source": [
    "pred = pd.DataFrame({'Actual': y_test, 'Predicted': y_pred})\n",
    "df1 = pred.head(10)\n",
    "df1"
   ]
  },
  {
   "cell_type": "code",
   "execution_count": null,
   "id": "4e985be2",
   "metadata": {},
   "outputs": [],
   "source": []
  },
  {
   "cell_type": "code",
   "execution_count": 113,
   "id": "c0ff80f3",
   "metadata": {},
   "outputs": [
    {
     "data": {
      "image/png": "[encoded data removed]",
      "text/plain": [
       "<Figure size 1000x600 with 1 Axes>"
      ]
     },
     "metadata": {},
     "output_type": "display_data"
    }
   ],
   "source": [
    "import matplotlib.pyplot as plt\n",
    "\n",
    "# Assuming pred is your DataFrame with 'Actual' and 'Predicted' columns\n",
    "plt.figure(figsize=(10, 6))\n",
    "\n",
    "# Scatter plot for Actual vs Predicted values\n",
    "plt.scatter(pred['Actual'], pred['Predicted'], c='blue', marker='o', label='Actual vs Predicted')\n",
    "\n",
    "# Plot a diagonal line for reference (perfect prediction)\n",
    "\n",
    "\n",
    "# Set plot labels and title\n",
    "plt.title('Actual vs Predicted Values')\n",
    "plt.xlabel('Actual Values')\n",
    "plt.ylabel('Predicted Values')\n",
    "\n",
    "# Add legend\n",
    "plt.legend()\n",
    "\n",
    "# Show the plot\n",
    "plt.show()\n"
   ]
  },
  {
   "cell_type": "code",
   "execution_count": null,
   "id": "74b765a7",
   "metadata": {},
   "outputs": [],
   "source": []
  },
  {
   "cell_type": "code",
   "execution_count": null,
   "id": "05fe07ce",
   "metadata": {},
   "outputs": [],
   "source": []
  },
  {
   "cell_type": "code",
   "execution_count": null,
   "id": "5bb3d8d0",
   "metadata": {},
   "outputs": [],
   "source": []
  },
  {
   "cell_type": "code",
   "execution_count": null,
   "id": "9f979249",
   "metadata": {},
   "outputs": [],
   "source": []
  },
  {
   "cell_type": "code",
   "execution_count": null,
   "id": "9d1a5b2a",
   "metadata": {},
   "outputs": [],
   "source": []
  },
  {
   "cell_type": "code",
   "execution_count": null,
   "id": "e53f2211",
   "metadata": {},
   "outputs": [],
   "source": []
  },
  {
   "cell_type": "code",
   "execution_count": null,
   "id": "83da04e5",
   "metadata": {},
   "outputs": [],
   "source": []
  },
  {
   "cell_type": "code",
   "execution_count": null,
   "id": "87c93ef3",
   "metadata": {},
   "outputs": [],
   "source": []
  },
  {
   "cell_type": "code",
   "execution_count": null,
   "id": "6ab9572f",
   "metadata": {},
   "outputs": [],
   "source": []
  },
  {
   "cell_type": "code",
   "execution_count": null,
   "id": "4e7787d3",
   "metadata": {},
   "outputs": [],
   "source": [
    "\n",
    "import matplotlib.pyplot as plt\n",
    "\n",
    "# Assuming pred is your DataFrame with 'Actual' and 'Predicted' columns\n",
    "df1 = pred.head(10)\n",
    "\n",
    "# Plot the actual and predicted values using a line plot\n",
    "plt.figure(figsize=(10, 6))\n",
    "plt.plot(df1['Actual'], label='Actual', marker='o', linestyle='-', color='blue')\n",
    "plt.plot(df1['Predicted'], label='Predicted', marker='x', linestyle='--', color='orange')\n",
    "\n",
    "# Set plot labels and title\n",
    "plt.title('Actual vs Predicted Values (First 10 Records)')\n",
    "plt.xlabel('Sample')\n",
    "plt.ylabel('Value')\n",
    "\n",
    "# Add legend\n",
    "plt.legend()\n",
    "\n",
    "# Show the plot\n",
    "plt.show()\n"
   ]
  },
  {
   "cell_type": "code",
   "execution_count": null,
   "id": "a32c4c3e",
   "metadata": {},
   "outputs": [],
   "source": [
    "plt.plot([pred['Actual'].min(), pred['Actual'].max()], [pred['Actual'].min(), pred['Actual'].max()], 'k--', lw=2, label='Perfect Prediction')\n",
    "\n"
   ]
  },
  {
   "cell_type": "code",
   "execution_count": null,
   "id": "600ebc5b",
   "metadata": {},
   "outputs": [],
   "source": [
    "from sklearn.impute import SimpleImputer\n",
    "import numpy as np\n",
    "\n",
    "# Assuming df is your DataFrame\n",
    "imputer = SimpleImputer(strategy='mean')  # You can use 'most_frequent' for categorical data like 'Brand'\n",
    "\n",
    "# Replace missing values in the 'Brand' column\n",
    "df['Battery Capacity (mAh)'] = imputer.fit_transform(df[['Battery Capacity (mAh)']])\n",
    "\n",
    "# Display the DataFrame after imputation\n",
    "print(df)\n"
   ]
  }
 ],
 "metadata": {
  "kernelspec": {
   "display_name": "Python 3 (ipykernel)",
   "language": "python",
   "name": "python3"
  },
  "language_info": {
   "codemirror_mode": {
    "name": "ipython",
    "version": 3
   },
   "file_extension": ".py",
   "mimetype": "text/x-python",
   "name": "python",
   "nbconvert_exporter": "python",
   "pygments_lexer": "ipython3",
   "version": "3.11.5"
  }
 },
 "nbformat": 4,
 "nbformat_minor": 5
}
